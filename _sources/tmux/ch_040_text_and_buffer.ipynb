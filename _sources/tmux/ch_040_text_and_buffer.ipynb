{
 "cells": [
  {
   "cell_type": "markdown",
   "id": "64db7dca",
   "metadata": {},
   "source": [
    "(tmux_ch_040_text_and_buffer)=\n",
    "# Глава 4. Работа с текстом и буферами"
   ]
  }
 ],
 "metadata": {
  "jupytext": {
   "text_representation": {
    "extension": ".md",
    "format_name": "myst",
    "format_version": 0.13,
    "jupytext_version": "1.16.0"
   }
  },
  "kernelspec": {
   "display_name": "Python 3 (ipykernel)",
   "language": "python",
   "name": "python3"
  },
  "source_map": [
   12
  ]
 },
 "nbformat": 4,
 "nbformat_minor": 5
}