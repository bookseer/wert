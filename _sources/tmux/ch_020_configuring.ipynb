{
 "cells": [
  {
   "cell_type": "markdown",
   "id": "3a44a91d",
   "metadata": {},
   "source": [
    "(tmux_ch_020_configuring)=\n",
    "# Глава 2. Настройка tmux"
   ]
  }
 ],
 "metadata": {
  "jupytext": {
   "text_representation": {
    "extension": ".md",
    "format_name": "myst",
    "format_version": 0.13,
    "jupytext_version": "1.16.0"
   }
  },
  "kernelspec": {
   "display_name": "Python 3 (ipykernel)",
   "language": "python",
   "name": "python3"
  },
  "source_map": [
   12
  ]
 },
 "nbformat": 4,
 "nbformat_minor": 5
}