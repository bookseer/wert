{
 "cells": [
  {
   "cell_type": "markdown",
   "id": "31d1a131",
   "metadata": {},
   "source": [
    "(tmux_index)=\n",
    "# Руководство по tmux"
   ]
  }
 ],
 "metadata": {
  "jupytext": {
   "text_representation": {
    "extension": ".md",
    "format_name": "myst"
   }
  },
  "kernelspec": {
   "display_name": "Python 3 (ipykernel)",
   "language": "python",
   "name": "python3"
  },
  "source_map": [
   10
  ]
 },
 "nbformat": 4,
 "nbformat_minor": 5
}