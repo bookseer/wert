{
 "cells": [
  {
   "cell_type": "markdown",
   "id": "c4091925",
   "metadata": {},
   "source": [
    "(tmux_index)=\n",
    "# Руководство по tmux 12"
   ]
  }
 ],
 "metadata": {
  "jupytext": {
   "text_representation": {
    "extension": ".md",
    "format_name": "myst"
   }
  },
  "kernelspec": {
   "display_name": "Python 3 (ipykernel)",
   "language": "python",
   "name": "python3"
  },
  "source_map": [
   10
  ]
 },
 "nbformat": 4,
 "nbformat_minor": 5
}