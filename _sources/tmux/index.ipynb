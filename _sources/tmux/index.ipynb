{
 "cells": [
  {
   "cell_type": "markdown",
   "id": "3a8b3b0e",
   "metadata": {},
   "source": [
    "(tmux_index)=\n",
    "# TMUX\n",
    "\n",
    "\n",
    "\n",
    ":::bash\n",
    "echo \"Hello, World!\"\n",
    ":::"
   ]
  },
  {
   "cell_type": "code",
   "execution_count": 1,
   "id": "76a56fce",
   "metadata": {
    "tags": [
     "remove-input"
    ]
   },
   "outputs": [
    {
     "name": "stdout",
     "output_type": "stream",
     "text": [
      "Hello, World!\n"
     ]
    }
   ],
   "source": [
    "%%bash\n",
    "echo \"Hello, World!\""
   ]
  },
  {
   "cell_type": "markdown",
   "id": "16363789",
   "metadata": {},
   "source": [
    ":::{admonition} The title\n",
    ":class: note\n",
    "\n",
    "This note contains *Markdown*\n",
    ":::\n",
    "\n",
    "\n",
    "\n",
    ":::{note}\n",
    "1 note\n",
    ":::\n",
    "\n",
    "\n",
    "\n",
    ":::{note}\n",
    "2 note :::\n",
    "\n",
    ":::{note} 3 note :::"
   ]
  }
 ],
 "metadata": {
  "jupytext": {
   "text_representation": {
    "extension": ".md",
    "format_name": "myst"
   }
  },
  "kernelspec": {
   "display_name": "Python 3 (ipykernel)",
   "language": "python",
   "name": "python3"
  },
  "language_info": {
   "codemirror_mode": {
    "name": "ipython",
    "version": 3
   },
   "file_extension": ".py",
   "mimetype": "text/x-python",
   "name": "python",
   "nbconvert_exporter": "python",
   "pygments_lexer": "ipython3",
   "version": "3.12.1"
  },
  "source_map": [
   10,
   21,
   25
  ]
 },
 "nbformat": 4,
 "nbformat_minor": 5
}