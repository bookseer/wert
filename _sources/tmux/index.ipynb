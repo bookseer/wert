{
 "cells": [
  {
   "cell_type": "markdown",
   "id": "c633b788",
   "metadata": {},
   "source": [
    "(tmux_index)=\n",
    "# TMUX\n",
    "\n",
    "\n",
    "\n",
    ":::bash\n",
    "echo \"Hello, World!\"\n",
    ":::\n",
    ":::{code-cell} ipython3\n",
    ":tags: [\"remove-input\"]\n",
    "%%bash\n",
    "echo \"Hello, World!\"\n",
    ":::\n",
    "\n",
    "\n",
    ":::{admonition} The title\n",
    ":class: note\n",
    "\n",
    "This note contains *Markdown*\n",
    ":::\n",
    "\n",
    "\n",
    "\n",
    ":::{note}\n",
    "sdfskf;slfjslkfjslfjslskj\n",
    ":::"
   ]
  }
 ],
 "metadata": {
  "jupytext": {
   "text_representation": {
    "extension": ".md",
    "format_name": "myst"
   }
  },
  "kernelspec": {
   "display_name": "Python 3 (ipykernel)",
   "language": "python",
   "name": "python3"
  },
  "source_map": [
   10
  ]
 },
 "nbformat": 4,
 "nbformat_minor": 5
}