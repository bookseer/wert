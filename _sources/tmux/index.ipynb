{
 "cells": [
  {
   "cell_type": "markdown",
   "id": "27ec926d",
   "metadata": {},
   "source": [
    "(tmux_index)=\n",
    "# TMUX\n",
    "\n",
    "\n",
    "\n",
    ":::bash\n",
    "echo \"Hello, World!\"\n",
    ":::\n",
    "\n",
    ":::{code-cell} ipython3\n",
    ":tags: [\"remove-input\"]\n",
    "%%bash\n",
    "echo \"Hello, World!\"\n",
    ":::\n",
    "\n",
    "\n",
    ":::{admonition} The title\n",
    ":class: note\n",
    "\n",
    "This note contains *Markdown*\n",
    ":::\n",
    "\n",
    "\n",
    "\n",
    ":::{note}\n",
    "1 note\n",
    ":::\n",
    "\n",
    "\n",
    "\n",
    ":::{note}\n",
    "2 note :::\n",
    "\n",
    ":::{note} 3 note :::"
   ]
  }
 ],
 "metadata": {
  "jupytext": {
   "text_representation": {
    "extension": ".md",
    "format_name": "myst"
   }
  },
  "kernelspec": {
   "display_name": "Python 3 (ipykernel)",
   "language": "python",
   "name": "python3"
  },
  "source_map": [
   10
  ]
 },
 "nbformat": 4,
 "nbformat_minor": 5
}