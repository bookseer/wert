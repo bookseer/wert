{
 "cells": [
  {
   "cell_type": "markdown",
   "id": "7cc6f44c",
   "metadata": {},
   "source": [
    "(tmux_ch_060_workflow)=\n",
    "# Глава 6. Рабочий процесс с tmux"
   ]
  }
 ],
 "metadata": {
  "jupytext": {
   "text_representation": {
    "extension": ".md",
    "format_name": "myst",
    "format_version": 0.13,
    "jupytext_version": "1.16.0"
   }
  },
  "kernelspec": {
   "display_name": "Python 3 (ipykernel)",
   "language": "python",
   "name": "python3"
  },
  "source_map": [
   12
  ]
 },
 "nbformat": 4,
 "nbformat_minor": 5
}