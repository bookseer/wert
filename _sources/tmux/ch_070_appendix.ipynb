{
 "cells": [
  {
   "cell_type": "markdown",
   "id": "29c7de8b",
   "metadata": {},
   "source": [
    "(tmux_ch_070_appendix)=\n",
    "# Приложение"
   ]
  }
 ],
 "metadata": {
  "jupytext": {
   "text_representation": {
    "extension": ".md",
    "format_name": "myst",
    "format_version": 0.13,
    "jupytext_version": "1.16.0"
   }
  },
  "kernelspec": {
   "display_name": "Python 3 (ipykernel)",
   "language": "python",
   "name": "python3"
  },
  "source_map": [
   12
  ]
 },
 "nbformat": 4,
 "nbformat_minor": 5
}