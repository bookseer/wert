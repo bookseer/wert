{
 "cells": [
  {
   "cell_type": "markdown",
   "id": "d419aa5d",
   "metadata": {},
   "source": [
    "# Типографские соглашения\n",
    "\n",
    "## Программный код\n",
    "\n",
    "Пример кода внутри строки, обозначается так: `echo \"Hello, World!\"`.\n",
    "\n",
    "Команда вводимая в терминал Unix подобных систем:\n",
    ":::bash\n",
    "echo \"Hello, World!\"\n",
    ":::\n",
    "Символ **$** является приглашением командной строки. Его вводить не нужно.\n",
    "\n",
    "Команда вводимая в командной строке Windows подобных систем:\n",
    "```shell\n",
    "echo \"Hello, World!\"\n",
    "```\n",
    "Символы **C:\\\\>** являются приглашением командной строки. Их вводить не нужно.\n",
    "\n",
    "Команда вводимая в терминал Unix подобных систем вместе с выводом:\n",
    "```bash\n",
    "echo \"Hello, World!\"\n",
    "```"
   ]
  },
  {
   "cell_type": "code",
   "execution_count": 1,
   "id": "f9d22395",
   "metadata": {
    "tags": [
     "remove-input"
    ]
   },
   "outputs": [
    {
     "name": "stdout",
     "output_type": "stream",
     "text": [
      "Hello, World!\n"
     ]
    }
   ],
   "source": [
    "%%bash\n",
    "echo \"Hello, World!\""
   ]
  },
  {
   "cell_type": "markdown",
   "id": "3af28469",
   "metadata": {},
   "source": [
    "Python код выглядит\n",
    "```python\n",
    "message = \"Hello, World!\"\n",
    "print(message)\n",
    "```\n",
    "А так — python код и результат его исполнения"
   ]
  },
  {
   "cell_type": "code",
   "execution_count": 2,
   "id": "b53d7594",
   "metadata": {},
   "outputs": [
    {
     "name": "stdout",
     "output_type": "stream",
     "text": [
      "Hello, World!\n"
     ]
    }
   ],
   "source": [
    "message = \"Hello, World!\"\n",
    "print(message)"
   ]
  },
  {
   "cell_type": "code",
   "execution_count": 3,
   "id": "5fcf06ff",
   "metadata": {},
   "outputs": [
    {
     "name": "stdout",
     "output_type": "stream",
     "text": [
      "Hello, World!\n"
     ]
    }
   ],
   "source": [
    "%%bash\n",
    "message=\"Hello, World!\"\n",
    "echo $message"
   ]
  },
  {
   "cell_type": "markdown",
   "id": "e6331a1c",
   "metadata": {},
   "source": [
    "```console\n",
    "echo \"Hello, World!\"\n",
    "echo \"Hello, World!\"\n",
    "echo \"Hello, World!\"\n",
    "echo \"Hello, World!\"\n",
    "echo \"Hello, World!\"\n",
    "echo \"Hello, World!\"\n",
    "```"
   ]
  },
  {
   "cell_type": "code",
   "execution_count": 4,
   "id": "d2cafd07",
   "metadata": {},
   "outputs": [
    {
     "name": "stdout",
     "output_type": "stream",
     "text": [
      "Hello, World!\r\n"
     ]
    },
    {
     "name": "stdout",
     "output_type": "stream",
     "text": [
      "/home/askras/Documents/writer/bookseer/wert/book/info\r\n"
     ]
    }
   ],
   "source": [
    "! message=\"Hello, World!\"\n",
    "! echo $message\n",
    "! pwd"
   ]
  },
  {
   "cell_type": "code",
   "execution_count": 5,
   "id": "74ef2881",
   "metadata": {},
   "outputs": [
    {
     "name": "stdout",
     "output_type": "stream",
     "text": [
      "Hello, World!\r\n"
     ]
    },
    {
     "name": "stdout",
     "output_type": "stream",
     "text": [
      "/home/askras/Documents/writer/bookseer/wert/book/info\r\n"
     ]
    }
   ],
   "source": [
    "! message=\"Hello, World!\"\n",
    "! echo $message\n",
    "! pwd"
   ]
  },
  {
   "cell_type": "markdown",
   "id": "92551e3b",
   "metadata": {},
   "source": [
    "## Графические выделения\n",
    "\n",
    "<!--\n",
    "```{admonition} This is a title\n",
    ":class: note\n",
    ":class: warning\n",
    ":class: tip\n",
    ":class: caution\n",
    ":class: attention\n",
    ":class: danger\n",
    ":class: error\n",
    ":class: hint\n",
    ":class: important\n",
    ":class: seealso\n",
    "An example of an admonition with a title.\n",
    "```\n",
    "-->\n",
    "\n",
    "```{note}\n",
    "Так обозначаются замечания общего характера.\n",
    "```\n",
    "\n",
    "```{admonition} Совет\n",
    "Так обозначаются советы и рекомендации,\n",
    "```\n",
    "\n",
    "```{hint}\n",
    "Так обозначаются подсказки.\n",
    "```\n",
    "\n",
    "```{admonition} Смотрите также\n",
    ":class: seealso\n",
    "Так обозначаются ссылки на материал по теме.\n",
    "```\n",
    "\n",
    "```{attention}\n",
    "Материал, требующий особого внимания обозначается так.\n",
    "```\n",
    "\n",
    "```{warning} \n",
    "Так обозначаются предупреждения и предостережения.\n",
    "```\n",
    "\n",
    "```{error}\n",
    "Так обозначаются действия, которые могут привести к ошибке.\n",
    "```\n",
    "\n",
    "```{danger}\n",
    "Потенциально опасные действия, обозначаются так.\n",
    "```"
   ]
  },
  {
   "cell_type": "markdown",
   "id": "4dfe2b1b",
   "metadata": {},
   "source": [
    "## Математика\n",
    "\n",
    "````{prf:theorem} Теорема Пифагора\n",
    ":label: thm-pythagor\n",
    "\n",
    "В прямоугольном треугольнике, длины катетов которого равны $a$ и $b$, а длина гипотенузы — $c$, выполнено соотношение\n",
    "$a^2 + b^2 = c^2$.\n",
    "````"
   ]
  }
 ],
 "metadata": {
  "jupytext": {
   "formats": "md:myst",
   "text_representation": {
    "extension": ".md",
    "format_name": "myst"
   }
  },
  "kernelspec": {
   "display_name": "Python 3",
   "language": "python",
   "name": "python3"
  },
  "language_info": {
   "codemirror_mode": {
    "name": "ipython",
    "version": 3
   },
   "file_extension": ".py",
   "mimetype": "text/x-python",
   "name": "python",
   "nbconvert_exporter": "python",
   "pygments_lexer": "ipython3",
   "version": "3.12.1"
  },
  "source_map": [
   11,
   35,
   39,
   48,
   53,
   57,
   68,
   74,
   81,
   136
  ]
 },
 "nbformat": 4,
 "nbformat_minor": 5
}